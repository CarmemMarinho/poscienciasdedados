{
  "cells": [
    {
      "cell_type": "markdown",
      "metadata": {
        "id": "view-in-github",
        "colab_type": "text"
      },
      "source": [
        "<a href=\"https://colab.research.google.com/github/CarmemMarinho/poscienciasdedados/blob/main/MVP_Sprint2_ParteA_V4.ipynb\" target=\"_parent\"><img src=\"https://colab.research.google.com/assets/colab-badge.svg\" alt=\"Open In Colab\"/></a>"
      ]
    },
    {
      "cell_type": "markdown",
      "metadata": {
        "id": "zBd5qDHyUYE2"
      },
      "source": [
        "# MVP de Machine Learning e Deep Learning\n",
        "\n",
        "Profs. Tatiana Escovedo e Hugo Villamizar\n",
        "\n",
        "\n",
        "\n",
        "Aluna: Carmem Maria Marinho de Souza Vasconcelos\n"
      ]
    },
    {
      "cell_type": "markdown",
      "metadata": {
        "id": "a9830SmqnKuM"
      },
      "source": [
        "## Parte A - Machine Learning - Problema de Regressão\n",
        "\n",
        "### 1. Definição do Problema\n",
        "\n",
        "O dataset utilizado neste projeto foi o Shop Customer Data, obtido no Kaggle (www.kaggle.com), que apresenta informações do perfil de clientes e a pontuação de gastos em uma loja. É um banco de dados gerado manualmente e foi coletado por meio de uma pesquisa realizada durante 1 ano sobre clientes.\n",
        "\n",
        "O objetivo deste dataset é atribuir aos clientes uma pontuação de gastos, que pode representar o potencial de compra, possibilitando o proprietário de uma empresa entender melhor as características dos seus cliente e auxiliá-lo na elaboração de estratégias de aumento das vendas com base na personalização do atendimento.  \n",
        "\n",
        "Inicialmente, vamos trabalhar na análise dos dados do dataset, em seguida faremos a visualização dos dados gerando alguns insights. Depois, passaremos para a etapa de tratamento e limpeza dos dados e, finalmente, a separação em grupos de teste e treino. Trata-se de um problema de aprendizado supervisionado.\n",
        "\n",
        "Para mais detalhes sobre este dataset, consulte: https://www.kaggle.com/datasets/datascientistanna/customers-dataset\n",
        "\n",
        "**Informações sobre os atibutos:**\n",
        "\n",
        "1. **CustomerID** - Identificação do cliente\n",
        "\n",
        "2. **Gender** - Gênero\n",
        "\n",
        "3. **Age** - Idade\n",
        "\n",
        "4. **Annual Income ($)** - Renda anual, em Dólar\n",
        "\n",
        "5. **Spending Score** - Pontuação atribuída pela loja, com base no comportamento do cliente e na natureza do gasto\n",
        "\n",
        "6. **Profession** - Profissão do cliente\n",
        "\n",
        "7. **Work Experience** - Experiência de trabalho, em anos\n",
        "\n",
        "8. **Family Size** - Quantidade de membros da família do cliente\n",
        "\n",
        "Analisaremos quais são as características mais relevantes dos clientes para definição do seu potencial de compra e, dessa forma, criar possibilidades de segmentação dos clientes para campanhas de marketing.\n",
        "\n",
        "A hipótese deste trabalho é como é possível atribuir uma pontuação para o potencial de compra de um cliente. Portanto, o objetivo deste trabalho é criar um modelo para a predição do score de um cliente a partir das dos dados de cadastro do mesmo.\n",
        "\n",
        "Este é um problema de aprendizado supervisionado por regressão e a variável target será o \"Score\"."
      ]
    },
    {
      "cell_type": "markdown",
      "source": [
        "### 2. Carga de Dados"
      ],
      "metadata": {
        "id": "IGE0KvJgba3p"
      }
    },
    {
      "cell_type": "markdown",
      "source": [
        "Primeiro, vamos fazer a importação das bibliotecas utilizadas neste projeto."
      ],
      "metadata": {
        "id": "EHcB2VrQ9-QU"
      }
    },
    {
      "cell_type": "code",
      "execution_count": 83,
      "metadata": {
        "id": "jnN7F4GUbFMf"
      },
      "outputs": [],
      "source": [
        "# Importação de Pacotes\n",
        "import pandas as pd\n",
        "import numpy as np\n",
        "import matplotlib.pyplot as plt\n",
        "import missingno as ms\n",
        "from os import statvfs_result\n",
        "from matplotlib import cm\n",
        "from sklearn.feature_selection import SelectKBest\n",
        "from sklearn.feature_selection import f_regression\n",
        "from sklearn.preprocessing import OneHotEncoder\n",
        "from sklearn.preprocessing import StandardScaler\n",
        "from sklearn.preprocessing import MinMaxScaler\n",
        "from sklearn.model_selection import train_test_split\n",
        "from sklearn.model_selection import KFold\n",
        "from sklearn.model_selection import cross_val_score\n",
        "from sklearn.model_selection import GridSearchCV\n",
        "from sklearn.metrics import mean_squared_error\n",
        "from sklearn.metrics import accuracy_score\n",
        "from sklearn.linear_model import LinearRegression\n",
        "from sklearn.linear_model import Ridge\n",
        "from sklearn.linear_model import Lasso\n",
        "from sklearn.neighbors import KNeighborsRegressor\n",
        "from sklearn.tree import DecisionTreeRegressor\n",
        "from sklearn.svm import SVR\n",
        "from sklearn.ensemble import BaggingRegressor\n",
        "from sklearn.ensemble import RandomForestRegressor\n",
        "from sklearn.ensemble import ExtraTreesRegressor\n",
        "from sklearn.ensemble import VotingRegressor\n",
        "from sklearn.ensemble import AdaBoostRegressor\n",
        "from sklearn.ensemble import GradientBoostingRegressor\n",
        "from sklearn.pipeline import Pipeline\n"
      ]
    },
    {
      "cell_type": "code",
      "execution_count": 84,
      "metadata": {
        "id": "p60cnX377ATq"
      },
      "outputs": [],
      "source": [
        "# Configuração para não exibir warnings\n",
        "import warnings\n",
        "warnings.filterwarnings(\"ignore\")"
      ]
    },
    {
      "cell_type": "markdown",
      "metadata": {
        "id": "G2M5t6jr74ox"
      },
      "source": [
        "Iremos usar o pacote Pandas (Python Data Analysis Library) para carregar um arquivo .csv disponível online e visualizar as 5 primeiras linhas do dataset importado."
      ]
    },
    {
      "cell_type": "code",
      "execution_count": 85,
      "metadata": {
        "id": "v9Ip00wo8IlN"
      },
      "outputs": [],
      "source": [
        "# Importando dados de uma url para um dataframe\n",
        "\n",
        "# Informa a url de importação do dataset\n",
        "url = 'https://raw.githubusercontent.com/CarmemMarinho/poscienciasdedados/main/Customers.csv'\n",
        "\n",
        "# Lê o arquivo\n",
        "dataset = pd.read_csv(url, delimiter=',')"
      ]
    },
    {
      "cell_type": "code",
      "execution_count": 86,
      "metadata": {
        "colab": {
          "base_uri": "https://localhost:8080/",
          "height": 206
        },
        "id": "leCv9nKFAMDC",
        "outputId": "ac8c2564-672d-4348-e3ac-c490763194c3"
      },
      "outputs": [
        {
          "output_type": "execute_result",
          "data": {
            "text/plain": [
              "   CustomerID  Gender  Age  Annual Income ($)  Spending Score (1-100)  \\\n",
              "0           1    Male   19              15000                      39   \n",
              "1           2    Male   21              35000                      81   \n",
              "2           3  Female   20              86000                       6   \n",
              "3           4  Female   23              59000                      77   \n",
              "4           5  Female   31              38000                      40   \n",
              "\n",
              "      Profession  Work Experience  Family Size  \n",
              "0     Healthcare                1            4  \n",
              "1       Engineer                3            3  \n",
              "2       Engineer                1            1  \n",
              "3         Lawyer                0            2  \n",
              "4  Entertainment                2            6  "
            ],
            "text/html": [
              "\n",
              "\n",
              "  <div id=\"df-3c51a900-b314-484a-aa47-c16e8c480840\">\n",
              "    <div class=\"colab-df-container\">\n",
              "      <div>\n",
              "<style scoped>\n",
              "    .dataframe tbody tr th:only-of-type {\n",
              "        vertical-align: middle;\n",
              "    }\n",
              "\n",
              "    .dataframe tbody tr th {\n",
              "        vertical-align: top;\n",
              "    }\n",
              "\n",
              "    .dataframe thead th {\n",
              "        text-align: right;\n",
              "    }\n",
              "</style>\n",
              "<table border=\"1\" class=\"dataframe\">\n",
              "  <thead>\n",
              "    <tr style=\"text-align: right;\">\n",
              "      <th></th>\n",
              "      <th>CustomerID</th>\n",
              "      <th>Gender</th>\n",
              "      <th>Age</th>\n",
              "      <th>Annual Income ($)</th>\n",
              "      <th>Spending Score (1-100)</th>\n",
              "      <th>Profession</th>\n",
              "      <th>Work Experience</th>\n",
              "      <th>Family Size</th>\n",
              "    </tr>\n",
              "  </thead>\n",
              "  <tbody>\n",
              "    <tr>\n",
              "      <th>0</th>\n",
              "      <td>1</td>\n",
              "      <td>Male</td>\n",
              "      <td>19</td>\n",
              "      <td>15000</td>\n",
              "      <td>39</td>\n",
              "      <td>Healthcare</td>\n",
              "      <td>1</td>\n",
              "      <td>4</td>\n",
              "    </tr>\n",
              "    <tr>\n",
              "      <th>1</th>\n",
              "      <td>2</td>\n",
              "      <td>Male</td>\n",
              "      <td>21</td>\n",
              "      <td>35000</td>\n",
              "      <td>81</td>\n",
              "      <td>Engineer</td>\n",
              "      <td>3</td>\n",
              "      <td>3</td>\n",
              "    </tr>\n",
              "    <tr>\n",
              "      <th>2</th>\n",
              "      <td>3</td>\n",
              "      <td>Female</td>\n",
              "      <td>20</td>\n",
              "      <td>86000</td>\n",
              "      <td>6</td>\n",
              "      <td>Engineer</td>\n",
              "      <td>1</td>\n",
              "      <td>1</td>\n",
              "    </tr>\n",
              "    <tr>\n",
              "      <th>3</th>\n",
              "      <td>4</td>\n",
              "      <td>Female</td>\n",
              "      <td>23</td>\n",
              "      <td>59000</td>\n",
              "      <td>77</td>\n",
              "      <td>Lawyer</td>\n",
              "      <td>0</td>\n",
              "      <td>2</td>\n",
              "    </tr>\n",
              "    <tr>\n",
              "      <th>4</th>\n",
              "      <td>5</td>\n",
              "      <td>Female</td>\n",
              "      <td>31</td>\n",
              "      <td>38000</td>\n",
              "      <td>40</td>\n",
              "      <td>Entertainment</td>\n",
              "      <td>2</td>\n",
              "      <td>6</td>\n",
              "    </tr>\n",
              "  </tbody>\n",
              "</table>\n",
              "</div>\n",
              "      <button class=\"colab-df-convert\" onclick=\"convertToInteractive('df-3c51a900-b314-484a-aa47-c16e8c480840')\"\n",
              "              title=\"Convert this dataframe to an interactive table.\"\n",
              "              style=\"display:none;\">\n",
              "\n",
              "  <svg xmlns=\"http://www.w3.org/2000/svg\" height=\"24px\"viewBox=\"0 0 24 24\"\n",
              "       width=\"24px\">\n",
              "    <path d=\"M0 0h24v24H0V0z\" fill=\"none\"/>\n",
              "    <path d=\"M18.56 5.44l.94 2.06.94-2.06 2.06-.94-2.06-.94-.94-2.06-.94 2.06-2.06.94zm-11 1L8.5 8.5l.94-2.06 2.06-.94-2.06-.94L8.5 2.5l-.94 2.06-2.06.94zm10 10l.94 2.06.94-2.06 2.06-.94-2.06-.94-.94-2.06-.94 2.06-2.06.94z\"/><path d=\"M17.41 7.96l-1.37-1.37c-.4-.4-.92-.59-1.43-.59-.52 0-1.04.2-1.43.59L10.3 9.45l-7.72 7.72c-.78.78-.78 2.05 0 2.83L4 21.41c.39.39.9.59 1.41.59.51 0 1.02-.2 1.41-.59l7.78-7.78 2.81-2.81c.8-.78.8-2.07 0-2.86zM5.41 20L4 18.59l7.72-7.72 1.47 1.35L5.41 20z\"/>\n",
              "  </svg>\n",
              "      </button>\n",
              "\n",
              "\n",
              "\n",
              "    <div id=\"df-c052fbe7-e60f-4646-a256-f70ab85906a6\">\n",
              "      <button class=\"colab-df-quickchart\" onclick=\"quickchart('df-c052fbe7-e60f-4646-a256-f70ab85906a6')\"\n",
              "              title=\"Suggest charts.\"\n",
              "              style=\"display:none;\">\n",
              "\n",
              "<svg xmlns=\"http://www.w3.org/2000/svg\" height=\"24px\"viewBox=\"0 0 24 24\"\n",
              "     width=\"24px\">\n",
              "    <g>\n",
              "        <path d=\"M19 3H5c-1.1 0-2 .9-2 2v14c0 1.1.9 2 2 2h14c1.1 0 2-.9 2-2V5c0-1.1-.9-2-2-2zM9 17H7v-7h2v7zm4 0h-2V7h2v10zm4 0h-2v-4h2v4z\"/>\n",
              "    </g>\n",
              "</svg>\n",
              "      </button>\n",
              "    </div>\n",
              "\n",
              "<style>\n",
              "  .colab-df-quickchart {\n",
              "    background-color: #E8F0FE;\n",
              "    border: none;\n",
              "    border-radius: 50%;\n",
              "    cursor: pointer;\n",
              "    display: none;\n",
              "    fill: #1967D2;\n",
              "    height: 32px;\n",
              "    padding: 0 0 0 0;\n",
              "    width: 32px;\n",
              "  }\n",
              "\n",
              "  .colab-df-quickchart:hover {\n",
              "    background-color: #E2EBFA;\n",
              "    box-shadow: 0px 1px 2px rgba(60, 64, 67, 0.3), 0px 1px 3px 1px rgba(60, 64, 67, 0.15);\n",
              "    fill: #174EA6;\n",
              "  }\n",
              "\n",
              "  [theme=dark] .colab-df-quickchart {\n",
              "    background-color: #3B4455;\n",
              "    fill: #D2E3FC;\n",
              "  }\n",
              "\n",
              "  [theme=dark] .colab-df-quickchart:hover {\n",
              "    background-color: #434B5C;\n",
              "    box-shadow: 0px 1px 3px 1px rgba(0, 0, 0, 0.15);\n",
              "    filter: drop-shadow(0px 1px 2px rgba(0, 0, 0, 0.3));\n",
              "    fill: #FFFFFF;\n",
              "  }\n",
              "</style>\n",
              "\n",
              "    <script>\n",
              "      async function quickchart(key) {\n",
              "        const containerElement = document.querySelector('#' + key);\n",
              "        const charts = await google.colab.kernel.invokeFunction(\n",
              "            'suggestCharts', [key], {});\n",
              "      }\n",
              "    </script>\n",
              "\n",
              "      <script>\n",
              "\n",
              "function displayQuickchartButton(domScope) {\n",
              "  let quickchartButtonEl =\n",
              "    domScope.querySelector('#df-c052fbe7-e60f-4646-a256-f70ab85906a6 button.colab-df-quickchart');\n",
              "  quickchartButtonEl.style.display =\n",
              "    google.colab.kernel.accessAllowed ? 'block' : 'none';\n",
              "}\n",
              "\n",
              "        displayQuickchartButton(document);\n",
              "      </script>\n",
              "      <style>\n",
              "    .colab-df-container {\n",
              "      display:flex;\n",
              "      flex-wrap:wrap;\n",
              "      gap: 12px;\n",
              "    }\n",
              "\n",
              "    .colab-df-convert {\n",
              "      background-color: #E8F0FE;\n",
              "      border: none;\n",
              "      border-radius: 50%;\n",
              "      cursor: pointer;\n",
              "      display: none;\n",
              "      fill: #1967D2;\n",
              "      height: 32px;\n",
              "      padding: 0 0 0 0;\n",
              "      width: 32px;\n",
              "    }\n",
              "\n",
              "    .colab-df-convert:hover {\n",
              "      background-color: #E2EBFA;\n",
              "      box-shadow: 0px 1px 2px rgba(60, 64, 67, 0.3), 0px 1px 3px 1px rgba(60, 64, 67, 0.15);\n",
              "      fill: #174EA6;\n",
              "    }\n",
              "\n",
              "    [theme=dark] .colab-df-convert {\n",
              "      background-color: #3B4455;\n",
              "      fill: #D2E3FC;\n",
              "    }\n",
              "\n",
              "    [theme=dark] .colab-df-convert:hover {\n",
              "      background-color: #434B5C;\n",
              "      box-shadow: 0px 1px 3px 1px rgba(0, 0, 0, 0.15);\n",
              "      filter: drop-shadow(0px 1px 2px rgba(0, 0, 0, 0.3));\n",
              "      fill: #FFFFFF;\n",
              "    }\n",
              "  </style>\n",
              "\n",
              "      <script>\n",
              "        const buttonEl =\n",
              "          document.querySelector('#df-3c51a900-b314-484a-aa47-c16e8c480840 button.colab-df-convert');\n",
              "        buttonEl.style.display =\n",
              "          google.colab.kernel.accessAllowed ? 'block' : 'none';\n",
              "\n",
              "        async function convertToInteractive(key) {\n",
              "          const element = document.querySelector('#df-3c51a900-b314-484a-aa47-c16e8c480840');\n",
              "          const dataTable =\n",
              "            await google.colab.kernel.invokeFunction('convertToInteractive',\n",
              "                                                     [key], {});\n",
              "          if (!dataTable) return;\n",
              "\n",
              "          const docLinkHtml = 'Like what you see? Visit the ' +\n",
              "            '<a target=\"_blank\" href=https://colab.research.google.com/notebooks/data_table.ipynb>data table notebook</a>'\n",
              "            + ' to learn more about interactive tables.';\n",
              "          element.innerHTML = '';\n",
              "          dataTable['output_type'] = 'display_data';\n",
              "          await google.colab.output.renderOutput(dataTable, element);\n",
              "          const docLink = document.createElement('div');\n",
              "          docLink.innerHTML = docLinkHtml;\n",
              "          element.appendChild(docLink);\n",
              "        }\n",
              "      </script>\n",
              "    </div>\n",
              "  </div>\n"
            ]
          },
          "metadata": {},
          "execution_count": 86
        }
      ],
      "source": [
        "# Mostra as 5 primeras linhas do dataset\n",
        "dataset.head()"
      ]
    },
    {
      "cell_type": "markdown",
      "source": [
        "Para melhorar a visualização e leitura do dataset, vamos renomear as colunas do dataset, simplificando o texto."
      ],
      "metadata": {
        "id": "_i5qS6RZAIHM"
      }
    },
    {
      "cell_type": "code",
      "source": [
        "# Informa os novos nomes que terão as colunas\n",
        "colunas = ['ID', 'Gender', 'Age', 'Income', 'Score', 'Profession', 'Experience', 'Family']\n",
        "\n",
        "# Lê o arquivo utilizando as colunas informadas\n",
        "dataset = pd.read_csv(url, names=colunas, skiprows=1, delimiter=',')\n",
        "\n",
        "# Mostra as 5 primeras linhas do dataset com as colunas renomeadas\n",
        "dataset.head()"
      ],
      "metadata": {
        "colab": {
          "base_uri": "https://localhost:8080/",
          "height": 206
        },
        "id": "p370NEk-_v2i",
        "outputId": "8c2aa4ab-5f24-474f-ea75-a935d437ef6f"
      },
      "execution_count": 87,
      "outputs": [
        {
          "output_type": "execute_result",
          "data": {
            "text/plain": [
              "   ID  Gender  Age  Income  Score     Profession  Experience  Family\n",
              "0   1    Male   19   15000     39     Healthcare           1       4\n",
              "1   2    Male   21   35000     81       Engineer           3       3\n",
              "2   3  Female   20   86000      6       Engineer           1       1\n",
              "3   4  Female   23   59000     77         Lawyer           0       2\n",
              "4   5  Female   31   38000     40  Entertainment           2       6"
            ],
            "text/html": [
              "\n",
              "\n",
              "  <div id=\"df-8d54ce47-9e51-4900-8d12-5151a2b3c9ff\">\n",
              "    <div class=\"colab-df-container\">\n",
              "      <div>\n",
              "<style scoped>\n",
              "    .dataframe tbody tr th:only-of-type {\n",
              "        vertical-align: middle;\n",
              "    }\n",
              "\n",
              "    .dataframe tbody tr th {\n",
              "        vertical-align: top;\n",
              "    }\n",
              "\n",
              "    .dataframe thead th {\n",
              "        text-align: right;\n",
              "    }\n",
              "</style>\n",
              "<table border=\"1\" class=\"dataframe\">\n",
              "  <thead>\n",
              "    <tr style=\"text-align: right;\">\n",
              "      <th></th>\n",
              "      <th>ID</th>\n",
              "      <th>Gender</th>\n",
              "      <th>Age</th>\n",
              "      <th>Income</th>\n",
              "      <th>Score</th>\n",
              "      <th>Profession</th>\n",
              "      <th>Experience</th>\n",
              "      <th>Family</th>\n",
              "    </tr>\n",
              "  </thead>\n",
              "  <tbody>\n",
              "    <tr>\n",
              "      <th>0</th>\n",
              "      <td>1</td>\n",
              "      <td>Male</td>\n",
              "      <td>19</td>\n",
              "      <td>15000</td>\n",
              "      <td>39</td>\n",
              "      <td>Healthcare</td>\n",
              "      <td>1</td>\n",
              "      <td>4</td>\n",
              "    </tr>\n",
              "    <tr>\n",
              "      <th>1</th>\n",
              "      <td>2</td>\n",
              "      <td>Male</td>\n",
              "      <td>21</td>\n",
              "      <td>35000</td>\n",
              "      <td>81</td>\n",
              "      <td>Engineer</td>\n",
              "      <td>3</td>\n",
              "      <td>3</td>\n",
              "    </tr>\n",
              "    <tr>\n",
              "      <th>2</th>\n",
              "      <td>3</td>\n",
              "      <td>Female</td>\n",
              "      <td>20</td>\n",
              "      <td>86000</td>\n",
              "      <td>6</td>\n",
              "      <td>Engineer</td>\n",
              "      <td>1</td>\n",
              "      <td>1</td>\n",
              "    </tr>\n",
              "    <tr>\n",
              "      <th>3</th>\n",
              "      <td>4</td>\n",
              "      <td>Female</td>\n",
              "      <td>23</td>\n",
              "      <td>59000</td>\n",
              "      <td>77</td>\n",
              "      <td>Lawyer</td>\n",
              "      <td>0</td>\n",
              "      <td>2</td>\n",
              "    </tr>\n",
              "    <tr>\n",
              "      <th>4</th>\n",
              "      <td>5</td>\n",
              "      <td>Female</td>\n",
              "      <td>31</td>\n",
              "      <td>38000</td>\n",
              "      <td>40</td>\n",
              "      <td>Entertainment</td>\n",
              "      <td>2</td>\n",
              "      <td>6</td>\n",
              "    </tr>\n",
              "  </tbody>\n",
              "</table>\n",
              "</div>\n",
              "      <button class=\"colab-df-convert\" onclick=\"convertToInteractive('df-8d54ce47-9e51-4900-8d12-5151a2b3c9ff')\"\n",
              "              title=\"Convert this dataframe to an interactive table.\"\n",
              "              style=\"display:none;\">\n",
              "\n",
              "  <svg xmlns=\"http://www.w3.org/2000/svg\" height=\"24px\"viewBox=\"0 0 24 24\"\n",
              "       width=\"24px\">\n",
              "    <path d=\"M0 0h24v24H0V0z\" fill=\"none\"/>\n",
              "    <path d=\"M18.56 5.44l.94 2.06.94-2.06 2.06-.94-2.06-.94-.94-2.06-.94 2.06-2.06.94zm-11 1L8.5 8.5l.94-2.06 2.06-.94-2.06-.94L8.5 2.5l-.94 2.06-2.06.94zm10 10l.94 2.06.94-2.06 2.06-.94-2.06-.94-.94-2.06-.94 2.06-2.06.94z\"/><path d=\"M17.41 7.96l-1.37-1.37c-.4-.4-.92-.59-1.43-.59-.52 0-1.04.2-1.43.59L10.3 9.45l-7.72 7.72c-.78.78-.78 2.05 0 2.83L4 21.41c.39.39.9.59 1.41.59.51 0 1.02-.2 1.41-.59l7.78-7.78 2.81-2.81c.8-.78.8-2.07 0-2.86zM5.41 20L4 18.59l7.72-7.72 1.47 1.35L5.41 20z\"/>\n",
              "  </svg>\n",
              "      </button>\n",
              "\n",
              "\n",
              "\n",
              "    <div id=\"df-187da848-6482-4da7-86d5-e581a3ed0824\">\n",
              "      <button class=\"colab-df-quickchart\" onclick=\"quickchart('df-187da848-6482-4da7-86d5-e581a3ed0824')\"\n",
              "              title=\"Suggest charts.\"\n",
              "              style=\"display:none;\">\n",
              "\n",
              "<svg xmlns=\"http://www.w3.org/2000/svg\" height=\"24px\"viewBox=\"0 0 24 24\"\n",
              "     width=\"24px\">\n",
              "    <g>\n",
              "        <path d=\"M19 3H5c-1.1 0-2 .9-2 2v14c0 1.1.9 2 2 2h14c1.1 0 2-.9 2-2V5c0-1.1-.9-2-2-2zM9 17H7v-7h2v7zm4 0h-2V7h2v10zm4 0h-2v-4h2v4z\"/>\n",
              "    </g>\n",
              "</svg>\n",
              "      </button>\n",
              "    </div>\n",
              "\n",
              "<style>\n",
              "  .colab-df-quickchart {\n",
              "    background-color: #E8F0FE;\n",
              "    border: none;\n",
              "    border-radius: 50%;\n",
              "    cursor: pointer;\n",
              "    display: none;\n",
              "    fill: #1967D2;\n",
              "    height: 32px;\n",
              "    padding: 0 0 0 0;\n",
              "    width: 32px;\n",
              "  }\n",
              "\n",
              "  .colab-df-quickchart:hover {\n",
              "    background-color: #E2EBFA;\n",
              "    box-shadow: 0px 1px 2px rgba(60, 64, 67, 0.3), 0px 1px 3px 1px rgba(60, 64, 67, 0.15);\n",
              "    fill: #174EA6;\n",
              "  }\n",
              "\n",
              "  [theme=dark] .colab-df-quickchart {\n",
              "    background-color: #3B4455;\n",
              "    fill: #D2E3FC;\n",
              "  }\n",
              "\n",
              "  [theme=dark] .colab-df-quickchart:hover {\n",
              "    background-color: #434B5C;\n",
              "    box-shadow: 0px 1px 3px 1px rgba(0, 0, 0, 0.15);\n",
              "    filter: drop-shadow(0px 1px 2px rgba(0, 0, 0, 0.3));\n",
              "    fill: #FFFFFF;\n",
              "  }\n",
              "</style>\n",
              "\n",
              "    <script>\n",
              "      async function quickchart(key) {\n",
              "        const containerElement = document.querySelector('#' + key);\n",
              "        const charts = await google.colab.kernel.invokeFunction(\n",
              "            'suggestCharts', [key], {});\n",
              "      }\n",
              "    </script>\n",
              "\n",
              "      <script>\n",
              "\n",
              "function displayQuickchartButton(domScope) {\n",
              "  let quickchartButtonEl =\n",
              "    domScope.querySelector('#df-187da848-6482-4da7-86d5-e581a3ed0824 button.colab-df-quickchart');\n",
              "  quickchartButtonEl.style.display =\n",
              "    google.colab.kernel.accessAllowed ? 'block' : 'none';\n",
              "}\n",
              "\n",
              "        displayQuickchartButton(document);\n",
              "      </script>\n",
              "      <style>\n",
              "    .colab-df-container {\n",
              "      display:flex;\n",
              "      flex-wrap:wrap;\n",
              "      gap: 12px;\n",
              "    }\n",
              "\n",
              "    .colab-df-convert {\n",
              "      background-color: #E8F0FE;\n",
              "      border: none;\n",
              "      border-radius: 50%;\n",
              "      cursor: pointer;\n",
              "      display: none;\n",
              "      fill: #1967D2;\n",
              "      height: 32px;\n",
              "      padding: 0 0 0 0;\n",
              "      width: 32px;\n",
              "    }\n",
              "\n",
              "    .colab-df-convert:hover {\n",
              "      background-color: #E2EBFA;\n",
              "      box-shadow: 0px 1px 2px rgba(60, 64, 67, 0.3), 0px 1px 3px 1px rgba(60, 64, 67, 0.15);\n",
              "      fill: #174EA6;\n",
              "    }\n",
              "\n",
              "    [theme=dark] .colab-df-convert {\n",
              "      background-color: #3B4455;\n",
              "      fill: #D2E3FC;\n",
              "    }\n",
              "\n",
              "    [theme=dark] .colab-df-convert:hover {\n",
              "      background-color: #434B5C;\n",
              "      box-shadow: 0px 1px 3px 1px rgba(0, 0, 0, 0.15);\n",
              "      filter: drop-shadow(0px 1px 2px rgba(0, 0, 0, 0.3));\n",
              "      fill: #FFFFFF;\n",
              "    }\n",
              "  </style>\n",
              "\n",
              "      <script>\n",
              "        const buttonEl =\n",
              "          document.querySelector('#df-8d54ce47-9e51-4900-8d12-5151a2b3c9ff button.colab-df-convert');\n",
              "        buttonEl.style.display =\n",
              "          google.colab.kernel.accessAllowed ? 'block' : 'none';\n",
              "\n",
              "        async function convertToInteractive(key) {\n",
              "          const element = document.querySelector('#df-8d54ce47-9e51-4900-8d12-5151a2b3c9ff');\n",
              "          const dataTable =\n",
              "            await google.colab.kernel.invokeFunction('convertToInteractive',\n",
              "                                                     [key], {});\n",
              "          if (!dataTable) return;\n",
              "\n",
              "          const docLinkHtml = 'Like what you see? Visit the ' +\n",
              "            '<a target=\"_blank\" href=https://colab.research.google.com/notebooks/data_table.ipynb>data table notebook</a>'\n",
              "            + ' to learn more about interactive tables.';\n",
              "          element.innerHTML = '';\n",
              "          dataTable['output_type'] = 'display_data';\n",
              "          await google.colab.output.renderOutput(dataTable, element);\n",
              "          const docLink = document.createElement('div');\n",
              "          docLink.innerHTML = docLinkHtml;\n",
              "          element.appendChild(docLink);\n",
              "        }\n",
              "      </script>\n",
              "    </div>\n",
              "  </div>\n"
            ]
          },
          "metadata": {},
          "execution_count": 87
        }
      ]
    },
    {
      "cell_type": "markdown",
      "metadata": {
        "id": "GmjpXoXW4Jh5"
      },
      "source": [
        "## 3. Pré-Processamento de Dados\n",
        "A seguir, vamos realizar algumas operações de preparação de dados, como por exemplo, tratamento de valores missings (faltantes), limpeza de dados, tratamento das variáveis categóricas (One-Hot Encoding). Aplicaremos o holdout para efetuar a divisão em bases de treino (80%) e teste (20%) e separaremos em dez folds usando a validação cruzada."
      ]
    },
    {
      "cell_type": "markdown",
      "metadata": {
        "id": "qSyyT-yk4VhZ"
      },
      "source": [
        "### 3.1 Tratamento de Missings e Limpeza\n",
        "Nesta fase de limpeza iremos analisar a possível ocorrência de nulls e/ou linhas duplicadas, e fazer os devidos ajustes, se necessário. Pecebemos que no dataset há missings aparentes, mas também há valores \"0\" que podem significar falta de dados de entrada."
      ]
    },
    {
      "cell_type": "code",
      "execution_count": 88,
      "metadata": {
        "colab": {
          "base_uri": "https://localhost:8080/"
        },
        "id": "W1tOU8Ff4git",
        "outputId": "93c5f922-09a9-4439-adc0-6ebd8e75ae40"
      },
      "outputs": [
        {
          "output_type": "execute_result",
          "data": {
            "text/plain": [
              "ID             0\n",
              "Gender         0\n",
              "Age            0\n",
              "Income         0\n",
              "Score          0\n",
              "Profession    35\n",
              "Experience     0\n",
              "Family         0\n",
              "dtype: int64"
            ]
          },
          "metadata": {},
          "execution_count": 88
        }
      ],
      "source": [
        "# verificando nulls no dataset\n",
        "dataset.isnull().sum()"
      ]
    },
    {
      "cell_type": "code",
      "execution_count": 89,
      "metadata": {
        "colab": {
          "base_uri": "https://localhost:8080/",
          "height": 553
        },
        "id": "TSDxW7lR5pl_",
        "outputId": "17a3fc75-5c87-4e5c-f5ab-4c956336a0d5"
      },
      "outputs": [
        {
          "output_type": "execute_result",
          "data": {
            "text/plain": [
              "<Axes: >"
            ]
          },
          "metadata": {},
          "execution_count": 89
        },
        {
          "output_type": "display_data",
          "data": {
            "text/plain": [
              "<Figure size 2500x1000 with 2 Axes>"
            ],
            "image/png": "[encoded data removed]"
          },
          "metadata": {}
        }
      ],
      "source": [
        "# salvando um NOVO dataset para tratamento de missings\n",
        "\n",
        "# recuperando os nomes das colunas\n",
        "col = list(dataset.columns)\n",
        "\n",
        "# o novo dataset irá conter todas as colunas do dataset original\n",
        "datasetSemMissings = dataset[col[:]]\n",
        "\n",
        "# substituindo os zeros por NaN\n",
        "datasetSemMissings.replace(0, np.nan, inplace=True)\n",
        "\n",
        "# exibindo visualização matricial da nulidade do dataset\n",
        "ms.matrix(datasetSemMissings)"
      ]
    },
    {
      "cell_type": "code",
      "execution_count": 90,
      "metadata": {
        "colab": {
          "base_uri": "https://localhost:8080/"
        },
        "id": "0_bZcCQpC1Kk",
        "outputId": "979964cd-b340-419c-e214-d5a41064bb64"
      },
      "outputs": [
        {
          "output_type": "execute_result",
          "data": {
            "text/plain": [
              "ID              0\n",
              "Gender          0\n",
              "Age            24\n",
              "Income          2\n",
              "Score           2\n",
              "Profession     35\n",
              "Experience    431\n",
              "Family          0\n",
              "dtype: int64"
            ]
          },
          "metadata": {},
          "execution_count": 90
        }
      ],
      "source": [
        "# verificando novamente nulls no dataset\n",
        "datasetSemMissings.isnull().sum()"
      ]
    },
    {
      "cell_type": "markdown",
      "source": [
        "Vamos substituir os valores faltantes por 0 em 'Income', pois pode haver clientes que não possuem renda. Já nas colunas 'Age', 'Experience' e 'Score', vamos incluir a mediana da coluna nos valores faltantes."
      ],
      "metadata": {
        "id": "lCTLxEJPQT9o"
      }
    },
    {
      "cell_type": "code",
      "execution_count": 91,
      "metadata": {
        "colab": {
          "base_uri": "https://localhost:8080/",
          "height": 553
        },
        "id": "ll_DQbDbIb3q",
        "outputId": "a252e37a-5eaf-480c-d200-7096b9fd6a4a"
      },
      "outputs": [
        {
          "output_type": "execute_result",
          "data": {
            "text/plain": [
              "<Axes: >"
            ]
          },
          "metadata": {},
          "execution_count": 91
        },
        {
          "output_type": "display_data",
          "data": {
            "text/plain": [
              "<Figure size 2500x1000 with 2 Axes>"
            ],
            "image/png": "[encoded data removed]"
          },
          "metadata": {}
        }
      ],
      "source": [
        "# substituindo os NaN de 'Income' por 0 - voltando aos valores originais desta coluna\n",
        "datasetSemMissings['Income'].fillna(0, inplace=True)\n",
        "\n",
        "# substituindo os NaN de 'Age', 'Experience' e 'Score' pela mediana da coluna\n",
        "datasetSemMissings['Age'].fillna(datasetSemMissings['Age'].median(), inplace=True)\n",
        "datasetSemMissings['Score'].fillna(datasetSemMissings['Score'].median(), inplace=True)\n",
        "datasetSemMissings['Experience'].fillna(datasetSemMissings['Experience'].median(), inplace=True)\n",
        "\n",
        "# exibindo visualização matricial da nulidade do dataset\n",
        "ms.matrix(datasetSemMissings)\n"
      ]
    },
    {
      "cell_type": "markdown",
      "source": [
        "Como na coluna 'Profession' ainda há missings, vamos excluir as linhas que possuem algum valor faltante nessa coluna."
      ],
      "metadata": {
        "id": "qwRqTn9bRVOM"
      }
    },
    {
      "cell_type": "code",
      "source": [
        "# eliminando linhas que tenham algum valor missing da coluna 'Profession'\n",
        "datasetSemMissings.dropna(how='any', inplace=True)\n",
        "\n",
        "# exibindo visualização matricial da nulidade do dataset\n",
        "ms.matrix(datasetSemMissings)"
      ],
      "metadata": {
        "colab": {
          "base_uri": "https://localhost:8080/",
          "height": 553
        },
        "id": "JCHfyUnwd4Nc",
        "outputId": "1cf0eded-fb33-40ee-bac1-4d240e37052f"
      },
      "execution_count": 92,
      "outputs": [
        {
          "output_type": "execute_result",
          "data": {
            "text/plain": [
              "<Axes: >"
            ]
          },
          "metadata": {},
          "execution_count": 92
        },
        {
          "output_type": "display_data",
          "data": {
            "text/plain": [
              "<Figure size 2500x1000 with 2 Axes>"
            ],
            "image/png": "[encoded data removed]"
          },
          "metadata": {}
        }
      ]
    },
    {
      "cell_type": "code",
      "source": [
        "# Retirando variáveis com alta cardinalidade ou variáveis de contagem\n",
        "datasetSemMissings.drop(columns=['ID'],inplace=True)\n",
        "datasetSemMissings.head()"
      ],
      "metadata": {
        "colab": {
          "base_uri": "https://localhost:8080/",
          "height": 206
        },
        "id": "IAS94IWpfUXh",
        "outputId": "38b7f064-9ff9-4b8b-975b-bcafe34067d3"
      },
      "execution_count": 93,
      "outputs": [
        {
          "output_type": "execute_result",
          "data": {
            "text/plain": [
              "   Gender   Age   Income  Score     Profession  Experience  Family\n",
              "0    Male  19.0  15000.0   39.0     Healthcare         1.0       4\n",
              "1    Male  21.0  35000.0   81.0       Engineer         3.0       3\n",
              "2  Female  20.0  86000.0    6.0       Engineer         1.0       1\n",
              "3  Female  23.0  59000.0   77.0         Lawyer         5.0       2\n",
              "4  Female  31.0  38000.0   40.0  Entertainment         2.0       6"
            ],
            "text/html": [
              "\n",
              "\n",
              "  <div id=\"df-eac9fead-27b3-419a-bf6a-304d1e3b6567\">\n",
              "    <div class=\"colab-df-container\">\n",
              "      <div>\n",
              "<style scoped>\n",
              "    .dataframe tbody tr th:only-of-type {\n",
              "        vertical-align: middle;\n",
              "    }\n",
              "\n",
              "    .dataframe tbody tr th {\n",
              "        vertical-align: top;\n",
              "    }\n",
              "\n",
              "    .dataframe thead th {\n",
              "        text-align: right;\n",
              "    }\n",
              "</style>\n",
              "<table border=\"1\" class=\"dataframe\">\n",
              "  <thead>\n",
              "    <tr style=\"text-align: right;\">\n",
              "      <th></th>\n",
              "      <th>Gender</th>\n",
              "      <th>Age</th>\n",
              "      <th>Income</th>\n",
              "      <th>Score</th>\n",
              "      <th>Profession</th>\n",
              "      <th>Experience</th>\n",
              "      <th>Family</th>\n",
              "    </tr>\n",
              "  </thead>\n",
              "  <tbody>\n",
              "    <tr>\n",
              "      <th>0</th>\n",
              "      <td>Male</td>\n",
              "      <td>19.0</td>\n",
              "      <td>15000.0</td>\n",
              "      <td>39.0</td>\n",
              "      <td>Healthcare</td>\n",
              "      <td>1.0</td>\n",
              "      <td>4</td>\n",
              "    </tr>\n",
              "    <tr>\n",
              "      <th>1</th>\n",
              "      <td>Male</td>\n",
              "      <td>21.0</td>\n",
              "      <td>35000.0</td>\n",
              "      <td>81.0</td>\n",
              "      <td>Engineer</td>\n",
              "      <td>3.0</td>\n",
              "      <td>3</td>\n",
              "    </tr>\n",
              "    <tr>\n",
              "      <th>2</th>\n",
              "      <td>Female</td>\n",
              "      <td>20.0</td>\n",
              "      <td>86000.0</td>\n",
              "      <td>6.0</td>\n",
              "      <td>Engineer</td>\n",
              "      <td>1.0</td>\n",
              "      <td>1</td>\n",
              "    </tr>\n",
              "    <tr>\n",
              "      <th>3</th>\n",
              "      <td>Female</td>\n",
              "      <td>23.0</td>\n",
              "      <td>59000.0</td>\n",
              "      <td>77.0</td>\n",
              "      <td>Lawyer</td>\n",
              "      <td>5.0</td>\n",
              "      <td>2</td>\n",
              "    </tr>\n",
              "    <tr>\n",
              "      <th>4</th>\n",
              "      <td>Female</td>\n",
              "      <td>31.0</td>\n",
              "      <td>38000.0</td>\n",
              "      <td>40.0</td>\n",
              "      <td>Entertainment</td>\n",
              "      <td>2.0</td>\n",
              "      <td>6</td>\n",
              "    </tr>\n",
              "  </tbody>\n",
              "</table>\n",
              "</div>\n",
              "      <button class=\"colab-df-convert\" onclick=\"convertToInteractive('df-eac9fead-27b3-419a-bf6a-304d1e3b6567')\"\n",
              "              title=\"Convert this dataframe to an interactive table.\"\n",
              "              style=\"display:none;\">\n",
              "\n",
              "  <svg xmlns=\"http://www.w3.org/2000/svg\" height=\"24px\"viewBox=\"0 0 24 24\"\n",
              "       width=\"24px\">\n",
              "    <path d=\"M0 0h24v24H0V0z\" fill=\"none\"/>\n",
              "    <path d=\"M18.56 5.44l.94 2.06.94-2.06 2.06-.94-2.06-.94-.94-2.06-.94 2.06-2.06.94zm-11 1L8.5 8.5l.94-2.06 2.06-.94-2.06-.94L8.5 2.5l-.94 2.06-2.06.94zm10 10l.94 2.06.94-2.06 2.06-.94-2.06-.94-.94-2.06-.94 2.06-2.06.94z\"/><path d=\"M17.41 7.96l-1.37-1.37c-.4-.4-.92-.59-1.43-.59-.52 0-1.04.2-1.43.59L10.3 9.45l-7.72 7.72c-.78.78-.78 2.05 0 2.83L4 21.41c.39.39.9.59 1.41.59.51 0 1.02-.2 1.41-.59l7.78-7.78 2.81-2.81c.8-.78.8-2.07 0-2.86zM5.41 20L4 18.59l7.72-7.72 1.47 1.35L5.41 20z\"/>\n",
              "  </svg>\n",
              "      </button>\n",
              "\n",
              "\n",
              "\n",
              "    <div id=\"df-34ba7ded-13dc-4244-95e9-3cc95e7d0841\">\n",
              "      <button class=\"colab-df-quickchart\" onclick=\"quickchart('df-34ba7ded-13dc-4244-95e9-3cc95e7d0841')\"\n",
              "              title=\"Suggest charts.\"\n",
              "              style=\"display:none;\">\n",
              "\n",
              "<svg xmlns=\"http://www.w3.org/2000/svg\" height=\"24px\"viewBox=\"0 0 24 24\"\n",
              "     width=\"24px\">\n",
              "    <g>\n",
              "        <path d=\"M19 3H5c-1.1 0-2 .9-2 2v14c0 1.1.9 2 2 2h14c1.1 0 2-.9 2-2V5c0-1.1-.9-2-2-2zM9 17H7v-7h2v7zm4 0h-2V7h2v10zm4 0h-2v-4h2v4z\"/>\n",
              "    </g>\n",
              "</svg>\n",
              "      </button>\n",
              "    </div>\n",
              "\n",
              "<style>\n",
              "  .colab-df-quickchart {\n",
              "    background-color: #E8F0FE;\n",
              "    border: none;\n",
              "    border-radius: 50%;\n",
              "    cursor: pointer;\n",
              "    display: none;\n",
              "    fill: #1967D2;\n",
              "    height: 32px;\n",
              "    padding: 0 0 0 0;\n",
              "    width: 32px;\n",
              "  }\n",
              "\n",
              "  .colab-df-quickchart:hover {\n",
              "    background-color: #E2EBFA;\n",
              "    box-shadow: 0px 1px 2px rgba(60, 64, 67, 0.3), 0px 1px 3px 1px rgba(60, 64, 67, 0.15);\n",
              "    fill: #174EA6;\n",
              "  }\n",
              "\n",
              "  [theme=dark] .colab-df-quickchart {\n",
              "    background-color: #3B4455;\n",
              "    fill: #D2E3FC;\n",
              "  }\n",
              "\n",
              "  [theme=dark] .colab-df-quickchart:hover {\n",
              "    background-color: #434B5C;\n",
              "    box-shadow: 0px 1px 3px 1px rgba(0, 0, 0, 0.15);\n",
              "    filter: drop-shadow(0px 1px 2px rgba(0, 0, 0, 0.3));\n",
              "    fill: #FFFFFF;\n",
              "  }\n",
              "</style>\n",
              "\n",
              "    <script>\n",
              "      async function quickchart(key) {\n",
              "        const containerElement = document.querySelector('#' + key);\n",
              "        const charts = await google.colab.kernel.invokeFunction(\n",
              "            'suggestCharts', [key], {});\n",
              "      }\n",
              "    </script>\n",
              "\n",
              "      <script>\n",
              "\n",
              "function displayQuickchartButton(domScope) {\n",
              "  let quickchartButtonEl =\n",
              "    domScope.querySelector('#df-34ba7ded-13dc-4244-95e9-3cc95e7d0841 button.colab-df-quickchart');\n",
              "  quickchartButtonEl.style.display =\n",
              "    google.colab.kernel.accessAllowed ? 'block' : 'none';\n",
              "}\n",
              "\n",
              "        displayQuickchartButton(document);\n",
              "      </script>\n",
              "      <style>\n",
              "    .colab-df-container {\n",
              "      display:flex;\n",
              "      flex-wrap:wrap;\n",
              "      gap: 12px;\n",
              "    }\n",
              "\n",
              "    .colab-df-convert {\n",
              "      background-color: #E8F0FE;\n",
              "      border: none;\n",
              "      border-radius: 50%;\n",
              "      cursor: pointer;\n",
              "      display: none;\n",
              "      fill: #1967D2;\n",
              "      height: 32px;\n",
              "      padding: 0 0 0 0;\n",
              "      width: 32px;\n",
              "    }\n",
              "\n",
              "    .colab-df-convert:hover {\n",
              "      background-color: #E2EBFA;\n",
              "      box-shadow: 0px 1px 2px rgba(60, 64, 67, 0.3), 0px 1px 3px 1px rgba(60, 64, 67, 0.15);\n",
              "      fill: #174EA6;\n",
              "    }\n",
              "\n",
              "    [theme=dark] .colab-df-convert {\n",
              "      background-color: #3B4455;\n",
              "      fill: #D2E3FC;\n",
              "    }\n",
              "\n",
              "    [theme=dark] .colab-df-convert:hover {\n",
              "      background-color: #434B5C;\n",
              "      box-shadow: 0px 1px 3px 1px rgba(0, 0, 0, 0.15);\n",
              "      filter: drop-shadow(0px 1px 2px rgba(0, 0, 0, 0.3));\n",
              "      fill: #FFFFFF;\n",
              "    }\n",
              "  </style>\n",
              "\n",
              "      <script>\n",
              "        const buttonEl =\n",
              "          document.querySelector('#df-eac9fead-27b3-419a-bf6a-304d1e3b6567 button.colab-df-convert');\n",
              "        buttonEl.style.display =\n",
              "          google.colab.kernel.accessAllowed ? 'block' : 'none';\n",
              "\n",
              "        async function convertToInteractive(key) {\n",
              "          const element = document.querySelector('#df-eac9fead-27b3-419a-bf6a-304d1e3b6567');\n",
              "          const dataTable =\n",
              "            await google.colab.kernel.invokeFunction('convertToInteractive',\n",
              "                                                     [key], {});\n",
              "          if (!dataTable) return;\n",
              "\n",
              "          const docLinkHtml = 'Like what you see? Visit the ' +\n",
              "            '<a target=\"_blank\" href=https://colab.research.google.com/notebooks/data_table.ipynb>data table notebook</a>'\n",
              "            + ' to learn more about interactive tables.';\n",
              "          element.innerHTML = '';\n",
              "          dataTable['output_type'] = 'display_data';\n",
              "          await google.colab.output.renderOutput(dataTable, element);\n",
              "          const docLink = document.createElement('div');\n",
              "          docLink.innerHTML = docLinkHtml;\n",
              "          element.appendChild(docLink);\n",
              "        }\n",
              "      </script>\n",
              "    </div>\n",
              "  </div>\n"
            ]
          },
          "metadata": {},
          "execution_count": 93
        }
      ]
    },
    {
      "cell_type": "code",
      "execution_count": 94,
      "metadata": {
        "colab": {
          "base_uri": "https://localhost:8080/"
        },
        "id": "kbL2z8DZR61S",
        "outputId": "011f2acd-472e-45b1-c9dd-27d55e7a7766"
      },
      "outputs": [
        {
          "output_type": "stream",
          "name": "stdout",
          "text": [
            "<class 'pandas.core.frame.DataFrame'>\n",
            "Int64Index: 1965 entries, 0 to 1999\n",
            "Data columns (total 7 columns):\n",
            " #   Column      Non-Null Count  Dtype  \n",
            "---  ------      --------------  -----  \n",
            " 0   Gender      1965 non-null   object \n",
            " 1   Age         1965 non-null   float64\n",
            " 2   Income      1965 non-null   float64\n",
            " 3   Score       1965 non-null   float64\n",
            " 4   Profession  1965 non-null   object \n",
            " 5   Experience  1965 non-null   float64\n",
            " 6   Family      1965 non-null   int64  \n",
            "dtypes: float64(4), int64(1), object(2)\n",
            "memory usage: 122.8+ KB\n"
          ]
        }
      ],
      "source": [
        "# Mostra as informações do dataset tratado\n",
        "datasetSemMissings.info()"
      ]
    },
    {
      "cell_type": "code",
      "execution_count": 95,
      "metadata": {
        "colab": {
          "base_uri": "https://localhost:8080/"
        },
        "id": "LlMzzQvVMoeh",
        "outputId": "9218badc-bee3-4864-ad0b-ad6f5d89de3f"
      },
      "outputs": [
        {
          "output_type": "execute_result",
          "data": {
            "text/plain": [
              "Gender        0\n",
              "Age           0\n",
              "Income        0\n",
              "Score         0\n",
              "Profession    0\n",
              "Experience    0\n",
              "Family        0\n",
              "dtype: int64"
            ]
          },
          "metadata": {},
          "execution_count": 95
        }
      ],
      "source": [
        "# verificando nulls no dataset tratado\n",
        "datasetSemMissings.isnull().sum()"
      ]
    },
    {
      "cell_type": "markdown",
      "source": [
        "###3.2 Tratamento de variáveis categóricas"
      ],
      "metadata": {
        "id": "qhnoJIvqguPa"
      }
    },
    {
      "cell_type": "markdown",
      "source": [
        "Nessa etapa, trataremos das variáveis categóricas, referente a dimensionalidade."
      ],
      "metadata": {
        "id": "AK9HyY_Eg83f"
      }
    },
    {
      "cell_type": "markdown",
      "source": [
        "Preparando um novo dataset \"dataset_model\" para ser utilizado no modelo"
      ],
      "metadata": {
        "id": "5hZ3Yno4hLEj"
      }
    },
    {
      "cell_type": "code",
      "source": [
        "dataset_model=datasetSemMissings[:]"
      ],
      "metadata": {
        "id": "qvACihG8hVAS"
      },
      "execution_count": 96,
      "outputs": []
    },
    {
      "cell_type": "code",
      "source": [
        "dataset_model['Profession'].value_counts()"
      ],
      "metadata": {
        "colab": {
          "base_uri": "https://localhost:8080/"
        },
        "id": "dT7J_kpJjS-j",
        "outputId": "4d469225-3dcd-450e-e25e-590323e40a4f"
      },
      "execution_count": 97,
      "outputs": [
        {
          "output_type": "execute_result",
          "data": {
            "text/plain": [
              "Artist           612\n",
              "Healthcare       339\n",
              "Entertainment    234\n",
              "Engineer         179\n",
              "Doctor           161\n",
              "Executive        153\n",
              "Lawyer           142\n",
              "Marketing         85\n",
              "Homemaker         60\n",
              "Name: Profession, dtype: int64"
            ]
          },
          "metadata": {},
          "execution_count": 97
        }
      ]
    },
    {
      "cell_type": "markdown",
      "source": [
        "Do resultado, podemos observar que a maioria das profissões é Artist, Healthcare e Entertainment. Assim vamos substituir os outros por uma categoria chamada 'other'."
      ],
      "metadata": {
        "id": "loxtO615jtTr"
      }
    },
    {
      "cell_type": "code",
      "source": [
        "# substituindo valores (exceto Artist, Healthcare, Entertainment) por 'other'\n",
        "prof = ['Artist','Healthcare', 'Entertainment']\n",
        "dataset_model['Profession'] = dataset_model['Profession'].where(dataset_model['Profession'].isin(prof), 'other')\n",
        "dataset_model['Profession'].value_counts()"
      ],
      "metadata": {
        "colab": {
          "base_uri": "https://localhost:8080/"
        },
        "id": "A0uaPsMCpM1o",
        "outputId": "3d5fa92c-3aa9-4906-d695-fbca9f956b79"
      },
      "execution_count": 98,
      "outputs": [
        {
          "output_type": "execute_result",
          "data": {
            "text/plain": [
              "other            780\n",
              "Artist           612\n",
              "Healthcare       339\n",
              "Entertainment    234\n",
              "Name: Profession, dtype: int64"
            ]
          },
          "metadata": {},
          "execution_count": 98
        }
      ]
    },
    {
      "cell_type": "markdown",
      "source": [
        "###3.3 Transformação das variáveis categóricas - One Hot Encoding"
      ],
      "metadata": {
        "id": "spAEHZ3egQRc"
      }
    },
    {
      "cell_type": "markdown",
      "source": [
        "Vamos tranformar as variáveis categóricas não ordinais \"Gender\" e \"Profession\" em variáveis numéricas, utilizando codificação One-Hot Encoding. Começando pela separação das variáveis preditoras."
      ],
      "metadata": {
        "id": "TankZcSOgeJt"
      }
    },
    {
      "cell_type": "code",
      "source": [
        "# separando as colunas preditoras e target\n",
        "col_y = ['Score']\n",
        "\n",
        "# separando atributos preditores e alvo\n",
        "X = dataset_model[:].drop(col_y, axis = 1)  # variaveis preditoras\n",
        "y = dataset_model[col_y[:]] # variavel alvo"
      ],
      "metadata": {
        "id": "JQ9RJA07g0DS"
      },
      "execution_count": 99,
      "outputs": []
    },
    {
      "cell_type": "markdown",
      "source": [
        "Em seguida, serão listadas as variáveis preditoras categóricas que serão codificadas."
      ],
      "metadata": {
        "id": "OIwaM1DOo0C7"
      }
    },
    {
      "cell_type": "code",
      "source": [
        "# listando os atributos categóricos que serão codificadas com one-hot encoded\n",
        "object_cols = [col for col in X.columns if X[col].dtype == \"object\"]\n",
        "\n",
        "# Novo nome das colunas codificadas\n",
        "cat_cols = object_cols\n",
        "cat_cols_encoded = []\n",
        "for col in cat_cols:\n",
        "  cat_cols_encoded += [f\"{col[0]}_{cat}\" for cat in list(X[col].unique())]\n",
        "\n",
        "print('Colunas categóricas que serão codificadas via one-hot encoding:', object_cols)\n",
        "print(f'Novos nomes de colunas categóricas:{cat_cols_encoded}')"
      ],
      "metadata": {
        "colab": {
          "base_uri": "https://localhost:8080/"
        },
        "id": "ovYL88w8xhMz",
        "outputId": "84776864-ff0f-48bb-c11e-be9f4fa78f7e"
      },
      "execution_count": 100,
      "outputs": [
        {
          "output_type": "stream",
          "name": "stdout",
          "text": [
            "Colunas categóricas que serão codificadas via one-hot encoding: ['Gender', 'Profession']\n",
            "Novos nomes de colunas categóricas:['G_Male', 'G_Female', 'P_Healthcare', 'P_other', 'P_Entertainment', 'P_Artist']\n"
          ]
        }
      ]
    },
    {
      "cell_type": "markdown",
      "source": [
        "Agora, aplicamos a transformação ONE HOT ENCODING."
      ],
      "metadata": {
        "id": "rTTN40AVzwQ2"
      }
    },
    {
      "cell_type": "code",
      "source": [
        "# aplica codificador one-hot a cada coluna com dados categóricos\n",
        "OH_encoder = OneHotEncoder(sparse=False, handle_unknown='ignore')\n",
        "\n",
        "OH_cols_X = pd.DataFrame(OH_encoder.fit_transform(X[object_cols]), columns=cat_cols_encoded)\n",
        "\n",
        "# índice removido de codificação one-hot; insere de volta\n",
        "OH_cols_X.index = X.index\n",
        "\n",
        "# remove colunas categóricas (substituirá por codificação one-hot)\n",
        "X.drop(object_cols, axis=1, inplace=True)\n",
        "\n",
        "# adiciona colunas codificadas one-hot a recursos numéricos\n",
        "X = X.join(OH_cols_X)\n",
        "\n",
        "#checando o tamanho\n",
        "print(f'X: {X.shape}')"
      ],
      "metadata": {
        "colab": {
          "base_uri": "https://localhost:8080/"
        },
        "id": "UxtM81AAxHQh",
        "outputId": "e481874a-efac-4a70-ef76-ba2ea7d776bf"
      },
      "execution_count": 101,
      "outputs": [
        {
          "output_type": "stream",
          "name": "stdout",
          "text": [
            "X: (1965, 10)\n"
          ]
        }
      ]
    },
    {
      "cell_type": "code",
      "source": [
        "X.head()"
      ],
      "metadata": {
        "colab": {
          "base_uri": "https://localhost:8080/",
          "height": 206
        },
        "id": "nAKLe-pyzjme",
        "outputId": "a08cbbe4-ab87-46e0-f061-a86f0f38075e"
      },
      "execution_count": 102,
      "outputs": [
        {
          "output_type": "execute_result",
          "data": {
            "text/plain": [
              "    Age   Income  Experience  Family  G_Male  G_Female  P_Healthcare  P_other  \\\n",
              "0  19.0  15000.0         1.0       4     0.0       1.0           0.0      0.0   \n",
              "1  21.0  35000.0         3.0       3     0.0       1.0           0.0      0.0   \n",
              "2  20.0  86000.0         1.0       1     1.0       0.0           0.0      0.0   \n",
              "3  23.0  59000.0         5.0       2     1.0       0.0           0.0      0.0   \n",
              "4  31.0  38000.0         2.0       6     1.0       0.0           0.0      1.0   \n",
              "\n",
              "   P_Entertainment  P_Artist  \n",
              "0              1.0       0.0  \n",
              "1              0.0       1.0  \n",
              "2              0.0       1.0  \n",
              "3              0.0       1.0  \n",
              "4              0.0       0.0  "
            ],
            "text/html": [
              "\n",
              "\n",
              "  <div id=\"df-b1867cf0-cbb3-4866-8f46-eeec00429406\">\n",
              "    <div class=\"colab-df-container\">\n",
              "      <div>\n",
              "<style scoped>\n",
              "    .dataframe tbody tr th:only-of-type {\n",
              "        vertical-align: middle;\n",
              "    }\n",
              "\n",
              "    .dataframe tbody tr th {\n",
              "        vertical-align: top;\n",
              "    }\n",
              "\n",
              "    .dataframe thead th {\n",
              "        text-align: right;\n",
              "    }\n",
              "</style>\n",
              "<table border=\"1\" class=\"dataframe\">\n",
              "  <thead>\n",
              "    <tr style=\"text-align: right;\">\n",
              "      <th></th>\n",
              "      <th>Age</th>\n",
              "      <th>Income</th>\n",
              "      <th>Experience</th>\n",
              "      <th>Family</th>\n",
              "      <th>G_Male</th>\n",
              "      <th>G_Female</th>\n",
              "      <th>P_Healthcare</th>\n",
              "      <th>P_other</th>\n",
              "      <th>P_Entertainment</th>\n",
              "      <th>P_Artist</th>\n",
              "    </tr>\n",
              "  </thead>\n",
              "  <tbody>\n",
              "    <tr>\n",
              "      <th>0</th>\n",
              "      <td>19.0</td>\n",
              "      <td>15000.0</td>\n",
              "      <td>1.0</td>\n",
              "      <td>4</td>\n",
              "      <td>0.0</td>\n",
              "      <td>1.0</td>\n",
              "      <td>0.0</td>\n",
              "      <td>0.0</td>\n",
              "      <td>1.0</td>\n",
              "      <td>0.0</td>\n",
              "    </tr>\n",
              "    <tr>\n",
              "      <th>1</th>\n",
              "      <td>21.0</td>\n",
              "      <td>35000.0</td>\n",
              "      <td>3.0</td>\n",
              "      <td>3</td>\n",
              "      <td>0.0</td>\n",
              "      <td>1.0</td>\n",
              "      <td>0.0</td>\n",
              "      <td>0.0</td>\n",
              "      <td>0.0</td>\n",
              "      <td>1.0</td>\n",
              "    </tr>\n",
              "    <tr>\n",
              "      <th>2</th>\n",
              "      <td>20.0</td>\n",
              "      <td>86000.0</td>\n",
              "      <td>1.0</td>\n",
              "      <td>1</td>\n",
              "      <td>1.0</td>\n",
              "      <td>0.0</td>\n",
              "      <td>0.0</td>\n",
              "      <td>0.0</td>\n",
              "      <td>0.0</td>\n",
              "      <td>1.0</td>\n",
              "    </tr>\n",
              "    <tr>\n",
              "      <th>3</th>\n",
              "      <td>23.0</td>\n",
              "      <td>59000.0</td>\n",
              "      <td>5.0</td>\n",
              "      <td>2</td>\n",
              "      <td>1.0</td>\n",
              "      <td>0.0</td>\n",
              "      <td>0.0</td>\n",
              "      <td>0.0</td>\n",
              "      <td>0.0</td>\n",
              "      <td>1.0</td>\n",
              "    </tr>\n",
              "    <tr>\n",
              "      <th>4</th>\n",
              "      <td>31.0</td>\n",
              "      <td>38000.0</td>\n",
              "      <td>2.0</td>\n",
              "      <td>6</td>\n",
              "      <td>1.0</td>\n",
              "      <td>0.0</td>\n",
              "      <td>0.0</td>\n",
              "      <td>1.0</td>\n",
              "      <td>0.0</td>\n",
              "      <td>0.0</td>\n",
              "    </tr>\n",
              "  </tbody>\n",
              "</table>\n",
              "</div>\n",
              "      <button class=\"colab-df-convert\" onclick=\"convertToInteractive('df-b1867cf0-cbb3-4866-8f46-eeec00429406')\"\n",
              "              title=\"Convert this dataframe to an interactive table.\"\n",
              "              style=\"display:none;\">\n",
              "\n",
              "  <svg xmlns=\"http://www.w3.org/2000/svg\" height=\"24px\"viewBox=\"0 0 24 24\"\n",
              "       width=\"24px\">\n",
              "    <path d=\"M0 0h24v24H0V0z\" fill=\"none\"/>\n",
              "    <path d=\"M18.56 5.44l.94 2.06.94-2.06 2.06-.94-2.06-.94-.94-2.06-.94 2.06-2.06.94zm-11 1L8.5 8.5l.94-2.06 2.06-.94-2.06-.94L8.5 2.5l-.94 2.06-2.06.94zm10 10l.94 2.06.94-2.06 2.06-.94-2.06-.94-.94-2.06-.94 2.06-2.06.94z\"/><path d=\"M17.41 7.96l-1.37-1.37c-.4-.4-.92-.59-1.43-.59-.52 0-1.04.2-1.43.59L10.3 9.45l-7.72 7.72c-.78.78-.78 2.05 0 2.83L4 21.41c.39.39.9.59 1.41.59.51 0 1.02-.2 1.41-.59l7.78-7.78 2.81-2.81c.8-.78.8-2.07 0-2.86zM5.41 20L4 18.59l7.72-7.72 1.47 1.35L5.41 20z\"/>\n",
              "  </svg>\n",
              "      </button>\n",
              "\n",
              "\n",
              "\n",
              "    <div id=\"df-85d73c5e-c86d-44e4-a02a-4bf0ab3fe9c3\">\n",
              "      <button class=\"colab-df-quickchart\" onclick=\"quickchart('df-85d73c5e-c86d-44e4-a02a-4bf0ab3fe9c3')\"\n",
              "              title=\"Suggest charts.\"\n",
              "              style=\"display:none;\">\n",
              "\n",
              "<svg xmlns=\"http://www.w3.org/2000/svg\" height=\"24px\"viewBox=\"0 0 24 24\"\n",
              "     width=\"24px\">\n",
              "    <g>\n",
              "        <path d=\"M19 3H5c-1.1 0-2 .9-2 2v14c0 1.1.9 2 2 2h14c1.1 0 2-.9 2-2V5c0-1.1-.9-2-2-2zM9 17H7v-7h2v7zm4 0h-2V7h2v10zm4 0h-2v-4h2v4z\"/>\n",
              "    </g>\n",
              "</svg>\n",
              "      </button>\n",
              "    </div>\n",
              "\n",
              "<style>\n",
              "  .colab-df-quickchart {\n",
              "    background-color: #E8F0FE;\n",
              "    border: none;\n",
              "    border-radius: 50%;\n",
              "    cursor: pointer;\n",
              "    display: none;\n",
              "    fill: #1967D2;\n",
              "    height: 32px;\n",
              "    padding: 0 0 0 0;\n",
              "    width: 32px;\n",
              "  }\n",
              "\n",
              "  .colab-df-quickchart:hover {\n",
              "    background-color: #E2EBFA;\n",
              "    box-shadow: 0px 1px 2px rgba(60, 64, 67, 0.3), 0px 1px 3px 1px rgba(60, 64, 67, 0.15);\n",
              "    fill: #174EA6;\n",
              "  }\n",
              "\n",
              "  [theme=dark] .colab-df-quickchart {\n",
              "    background-color: #3B4455;\n",
              "    fill: #D2E3FC;\n",
              "  }\n",
              "\n",
              "  [theme=dark] .colab-df-quickchart:hover {\n",
              "    background-color: #434B5C;\n",
              "    box-shadow: 0px 1px 3px 1px rgba(0, 0, 0, 0.15);\n",
              "    filter: drop-shadow(0px 1px 2px rgba(0, 0, 0, 0.3));\n",
              "    fill: #FFFFFF;\n",
              "  }\n",
              "</style>\n",
              "\n",
              "    <script>\n",
              "      async function quickchart(key) {\n",
              "        const containerElement = document.querySelector('#' + key);\n",
              "        const charts = await google.colab.kernel.invokeFunction(\n",
              "            'suggestCharts', [key], {});\n",
              "      }\n",
              "    </script>\n",
              "\n",
              "      <script>\n",
              "\n",
              "function displayQuickchartButton(domScope) {\n",
              "  let quickchartButtonEl =\n",
              "    domScope.querySelector('#df-85d73c5e-c86d-44e4-a02a-4bf0ab3fe9c3 button.colab-df-quickchart');\n",
              "  quickchartButtonEl.style.display =\n",
              "    google.colab.kernel.accessAllowed ? 'block' : 'none';\n",
              "}\n",
              "\n",
              "        displayQuickchartButton(document);\n",
              "      </script>\n",
              "      <style>\n",
              "    .colab-df-container {\n",
              "      display:flex;\n",
              "      flex-wrap:wrap;\n",
              "      gap: 12px;\n",
              "    }\n",
              "\n",
              "    .colab-df-convert {\n",
              "      background-color: #E8F0FE;\n",
              "      border: none;\n",
              "      border-radius: 50%;\n",
              "      cursor: pointer;\n",
              "      display: none;\n",
              "      fill: #1967D2;\n",
              "      height: 32px;\n",
              "      padding: 0 0 0 0;\n",
              "      width: 32px;\n",
              "    }\n",
              "\n",
              "    .colab-df-convert:hover {\n",
              "      background-color: #E2EBFA;\n",
              "      box-shadow: 0px 1px 2px rgba(60, 64, 67, 0.3), 0px 1px 3px 1px rgba(60, 64, 67, 0.15);\n",
              "      fill: #174EA6;\n",
              "    }\n",
              "\n",
              "    [theme=dark] .colab-df-convert {\n",
              "      background-color: #3B4455;\n",
              "      fill: #D2E3FC;\n",
              "    }\n",
              "\n",
              "    [theme=dark] .colab-df-convert:hover {\n",
              "      background-color: #434B5C;\n",
              "      box-shadow: 0px 1px 3px 1px rgba(0, 0, 0, 0.15);\n",
              "      filter: drop-shadow(0px 1px 2px rgba(0, 0, 0, 0.3));\n",
              "      fill: #FFFFFF;\n",
              "    }\n",
              "  </style>\n",
              "\n",
              "      <script>\n",
              "        const buttonEl =\n",
              "          document.querySelector('#df-b1867cf0-cbb3-4866-8f46-eeec00429406 button.colab-df-convert');\n",
              "        buttonEl.style.display =\n",
              "          google.colab.kernel.accessAllowed ? 'block' : 'none';\n",
              "\n",
              "        async function convertToInteractive(key) {\n",
              "          const element = document.querySelector('#df-b1867cf0-cbb3-4866-8f46-eeec00429406');\n",
              "          const dataTable =\n",
              "            await google.colab.kernel.invokeFunction('convertToInteractive',\n",
              "                                                     [key], {});\n",
              "          if (!dataTable) return;\n",
              "\n",
              "          const docLinkHtml = 'Like what you see? Visit the ' +\n",
              "            '<a target=\"_blank\" href=https://colab.research.google.com/notebooks/data_table.ipynb>data table notebook</a>'\n",
              "            + ' to learn more about interactive tables.';\n",
              "          element.innerHTML = '';\n",
              "          dataTable['output_type'] = 'display_data';\n",
              "          await google.colab.output.renderOutput(dataTable, element);\n",
              "          const docLink = document.createElement('div');\n",
              "          docLink.innerHTML = docLinkHtml;\n",
              "          element.appendChild(docLink);\n",
              "        }\n",
              "      </script>\n",
              "    </div>\n",
              "  </div>\n"
            ]
          },
          "metadata": {},
          "execution_count": 102
        }
      ]
    },
    {
      "cell_type": "markdown",
      "source": [
        "###3.4 Separação em conjunto de treino e conjunto de teste"
      ],
      "metadata": {
        "id": "U6k7OwZe3cwn"
      }
    },
    {
      "cell_type": "markdown",
      "source": [
        "Agora, vamos dividir o dataset em dois componentes de base de treino e teste, apresentando as entradas X e a saída Y."
      ],
      "metadata": {
        "id": "ZtdnauDM1b6K"
      }
    },
    {
      "cell_type": "code",
      "source": [
        "# definindo parametros de teste/treino\n",
        "test_size = 0.20 # tamanho do conjunto de testes.\n",
        "seed = 7 # semente geradora dos numeros aleatórios\n",
        "\n",
        "# definindo dados de treino e teste\n",
        "X_train, X_test, y_train, y_test = train_test_split(X, y,\n",
        "     test_size=test_size, shuffle=True, random_state=seed) # sem estratificação\n",
        "\n",
        "print(f'X_train: {X_train.shape}, y_train: {y_train.shape}\\nX_test: {X_test.shape}, y_test: {y_test.shape}')\n",
        "\n",
        "# Criando os folds para a validação cruzada\n",
        "num_particoes = 10 # número de folds da validação cruzada\n",
        "kfold = KFold(n_splits=num_particoes, shuffle=True, random_state=7) # faz o particionamento em 10 folds"
      ],
      "metadata": {
        "colab": {
          "base_uri": "https://localhost:8080/"
        },
        "id": "EJf2rpLw1lPN",
        "outputId": "cffdf8e4-7734-4f7e-84aa-f2c4b1be1cba"
      },
      "execution_count": 103,
      "outputs": [
        {
          "output_type": "stream",
          "name": "stdout",
          "text": [
            "X_train: (1572, 10), y_train: (1572, 1)\n",
            "X_test: (393, 10), y_test: (393, 1)\n"
          ]
        }
      ]
    },
    {
      "cell_type": "markdown",
      "source": [
        "###3.5 Seleção de Atributos"
      ],
      "metadata": {
        "id": "VDllx94o3o6P"
      }
    },
    {
      "cell_type": "markdown",
      "source": [
        "Agora, vamos executar o método de seleção univariada, para selecionar os 4 atributos mais relevantes, que podem ser utilizados como variáveis preditoras, utilizando a classe SelectKBest."
      ],
      "metadata": {
        "id": "MRhz_YCkhb1I"
      }
    },
    {
      "cell_type": "code",
      "source": [
        "# Seleção de atributos com SelectKBest\n",
        "best_var = SelectKBest(score_func=f_regression, k=4)\n",
        "\n",
        "# Executa a função de pontuação em (X, y) e obtém os atributos selecionados\n",
        "fit = best_var.fit(X_train, y_train)\n",
        "\n",
        "# Reduz X para os atributos selecionados\n",
        "features = fit.transform(X_train)\n",
        "\n",
        "# Resultados\n",
        "print('\\nNúmero original de atributos:', X_train.shape[1])\n",
        "print('\\nNúmero reduzido de atributos:', features.shape[1])\n",
        "\n",
        "# Exibe os atributos orginais\n",
        "print('\\nAtributos Originais:', X_train.columns)\n",
        "\n",
        "# Exibe as pontuações de cada atributos e os escolhidos (com as pontuações mais altas)\n",
        "np.set_printoptions(precision=3) # 3 casas decimais\n",
        "ncol_X = best_var.get_feature_names_out(input_features=X_train.columns)\n",
        "print('\\nScores dos Atributos Originais:', fit.scores_)\n",
        "print('\\nAtributos Selecionados:', ncol_X)"
      ],
      "metadata": {
        "colab": {
          "base_uri": "https://localhost:8080/"
        },
        "id": "Z6MYW-PGyxyF",
        "outputId": "f0436641-ef9d-45fe-8b6f-94e60f44cd01"
      },
      "execution_count": 104,
      "outputs": [
        {
          "output_type": "stream",
          "name": "stdout",
          "text": [
            "\n",
            "Número original de atributos: 10\n",
            "\n",
            "Número reduzido de atributos: 4\n",
            "\n",
            "Atributos Originais: Index(['Age', 'Income', 'Experience', 'Family', 'G_Male', 'G_Female',\n",
            "       'P_Healthcare', 'P_other', 'P_Entertainment', 'P_Artist'],\n",
            "      dtype='object')\n",
            "\n",
            "Scores dos Atributos Originais: [0.395 2.679 1.896 0.411 0.068 0.068 2.413 0.982 0.274 2.943]\n",
            "\n",
            "Atributos Selecionados: ['Income' 'Experience' 'P_Healthcare' 'P_Artist']\n"
          ]
        }
      ]
    },
    {
      "cell_type": "markdown",
      "source": [
        "## 4. Modelagem e Inferência"
      ],
      "metadata": {
        "id": "qrtAaXIYeZSW"
      }
    },
    {
      "cell_type": "markdown",
      "source": [
        "Iniciaremos agora a etapa de modelagem e inferência, mas não sabemos de antemão quais algoritmos performarão bem nesse conjunto de dados. Usaremos a validação cruzada para treinar e avaliar os modelos usando a métrica acurácia."
      ],
      "metadata": {
        "id": "5lGSgxIsjI1u"
      }
    },
    {
      "cell_type": "markdown",
      "source": [
        "###4.1 Criação e avaliação de modelos: linha de base"
      ],
      "metadata": {
        "id": "-DTrl-KKed1r"
      }
    },
    {
      "cell_type": "markdown",
      "source": [
        "Primeiramente, iremos avaliar os algoritmos com a configuração padrão de hiperparâmetros da scikit-Learn. Criaremos os modelos com os algoritmos de regressão abaixo adicionando-os em uma lista, para avaliar o MSR e o RMSE dos modelos treinados:\n",
        "\n",
        "- Regressão linear;\n",
        "\n",
        "- Regressão linear com regularização Ridge;\n",
        "\n",
        "- Regressão linear com regularização Lasso;\n",
        "\n",
        "- KNN;\n",
        "\n",
        "- Árvore de regressão (CART);\n",
        "\n",
        "- SVM"
      ],
      "metadata": {
        "id": "BQbhIHVJfBp6"
      }
    },
    {
      "cell_type": "code",
      "source": [
        "# definindo uma seed global para esta célula de código\n",
        "np.random.seed(7)\n",
        "\n",
        "# Lista que armazenará os modelos\n",
        "models = []\n",
        "results = []\n",
        "names = []\n",
        "\n",
        "# Preparando os modelos e adicionando-os em uma lista\n",
        "models.append(('LR', LinearRegression()))\n",
        "models.append(('Ridge', Ridge()))\n",
        "models.append(('Lasso', Lasso()))\n",
        "models.append(('KNN', KNeighborsRegressor()))\n",
        "models.append(('CART', DecisionTreeRegressor()))\n",
        "models.append(('SVM', SVR()))\n",
        "\n",
        "# Definindo os parâmetros para o BaggingRegressor\n",
        "base = DecisionTreeRegressor()\n",
        "num_trees = 100\n",
        "max_features = 3\n",
        "\n",
        "# Criando os modelos para o VotingRegressor\n",
        "bases = []\n",
        "model1 = LinearRegression()\n",
        "bases.append(('LR', model1))\n",
        "model2 = DecisionTreeRegressor()\n",
        "bases.append(('CART', model2))\n",
        "model3 = SVR()\n",
        "bases.append(('SVM', model3))\n",
        "model4 = KNeighborsRegressor()\n",
        "bases.append(('KNN', model4))\n",
        "\n",
        "# Criando os ensembles e adicionando-os na lista de modelos\n",
        "models.append(('Bagging', BaggingRegressor(base_estimator=base, n_estimators=num_trees)))\n",
        "models.append(('RF', RandomForestRegressor(n_estimators=num_trees, max_features=max_features)))\n",
        "models.append(('ET', ExtraTreesRegressor(n_estimators=num_trees, max_features=max_features)))\n",
        "models.append(('Ada', AdaBoostRegressor(n_estimators=num_trees)))\n",
        "models.append(('GB', GradientBoostingRegressor(n_estimators=num_trees)))\n",
        "models.append(('Voting', VotingRegressor(bases)))\n",
        "\n",
        "# Avaliando um modelo por vez\n",
        "for name, model in models:\n",
        "  cv_results = cross_val_score(model, X_train, y_train, cv=kfold, scoring='neg_mean_squared_error')\n",
        "  results.append(cv_results)\n",
        "  names.append(name)\n",
        "  # imprime MSE, desvio padrão do MSE e RMSE dos 10 resultados da validação cruzada\n",
        "  msg = \"%s: MSE %0.2f (%0.2f) - RMSE %0.2f\" % (name, abs(cv_results.mean()), cv_results.std(), np.sqrt(abs(cv_results.mean())))\n",
        "  print(msg)\n",
        "\n",
        "# Boxplot de comparação dos modelos\n",
        "fig = plt.figure()\n",
        "fig.suptitle('Comparação do MSE dos Modelos')\n",
        "ax = fig.add_subplot(111)\n",
        "plt.boxplot(results)\n",
        "ax.set_xticklabels(names)\n",
        "plt.show()"
      ],
      "metadata": {
        "colab": {
          "base_uri": "https://localhost:8080/",
          "height": 686
        },
        "id": "Z1mVhBXPe8Z_",
        "outputId": "05ab3e1c-18d5-49cc-8fd1-1b4e9e7a5d9f"
      },
      "execution_count": 105,
      "outputs": [
        {
          "output_type": "stream",
          "name": "stdout",
          "text": [
            "LR: MSE 775.60 (46.34) - RMSE 27.85\n",
            "Ridge: MSE 775.59 (46.33) - RMSE 27.85\n",
            "Lasso: MSE 772.38 (42.47) - RMSE 27.79\n",
            "KNN: MSE 908.84 (52.91) - RMSE 30.15\n",
            "CART: MSE 1579.57 (166.91) - RMSE 39.74\n",
            "SVM: MSE 772.57 (41.89) - RMSE 27.80\n",
            "Bagging: MSE 843.92 (59.70) - RMSE 29.05\n",
            "RF: MSE 836.06 (47.40) - RMSE 28.91\n",
            "ET: MSE 895.97 (40.64) - RMSE 29.93\n",
            "Ada: MSE 773.39 (42.48) - RMSE 27.81\n",
            "GB: MSE 801.61 (46.78) - RMSE 28.31\n",
            "Voting: MSE 838.30 (56.67) - RMSE 28.95\n"
          ]
        },
        {
          "output_type": "display_data",
          "data": {
            "text/plain": [
              "<Figure size 640x480 with 1 Axes>"
            ],
            "image/png": "[encoded data removed]"
          },
          "metadata": {}
        }
      ]
    },
    {
      "cell_type": "markdown",
      "source": [
        "O modelo Regressão Linear com Regularização Lasso apresentou a melhor performance nesta avaliação inicial.\n",
        "Analisando os resultados, verificamos que, considerando o MSE (e, consequentemente, o RMSE), o modelo treinado com o Regressão Linear com Regularização Lasso apresentou os melhores resultados, indicando que, possivelmente, seguiríamos com ela como escolha de algoritmo. Nesse caso, construiremos um novo modelo, treinado com toda a base de treino."
      ],
      "metadata": {
        "id": "-mF3teAuy1I0"
      }
    },
    {
      "cell_type": "markdown",
      "source": [
        "Preparando o dataframe com as colunas selecionadas"
      ],
      "metadata": {
        "id": "y0D4MnrOc_Eq"
      }
    },
    {
      "cell_type": "code",
      "source": [
        "# novo conjunto de atributos selecionados\n",
        "X_train = X_train[ncol_X[:]]# variaveis preditoras\n",
        "X_test = X_test[ncol_X[:]]# variaveis preditoras"
      ],
      "metadata": {
        "id": "Ea6JWz_qQd66"
      },
      "execution_count": 106,
      "outputs": []
    },
    {
      "cell_type": "markdown",
      "source": [
        "Construindo um novo modelo baseado em regressão Linear com regularização Lasso com todo conjunto de treino, para então ser avaliado utilizando a base de teste."
      ],
      "metadata": {
        "id": "h-q4jQ8pNfrM"
      }
    },
    {
      "cell_type": "code",
      "source": [
        "# Criando o modelo lasso com todo o conjunto de treino\n",
        "model = Lasso()\n",
        "model.fit(X_train, y_train)\n",
        "\n",
        "# Fazendo as predições com o conjunto de teste\n",
        "predictions = model.predict(X_test)\n",
        "\n",
        "# Estimando o MSE e o RMSE no conjunto de teste\n",
        "mse = mean_squared_error(y_test, predictions)\n",
        "print(\"MSE %0.2f\" % mse)\n",
        "print(\"RMSE %0.2f\" % np.sqrt(abs(mse)))"
      ],
      "metadata": {
        "colab": {
          "base_uri": "https://localhost:8080/"
        },
        "id": "QBAygqOMMsys",
        "outputId": "01ba880c-ca2f-40ea-fe3c-e7ac2945fd7e"
      },
      "execution_count": 107,
      "outputs": [
        {
          "output_type": "stream",
          "name": "stdout",
          "text": [
            "MSE 816.27\n",
            "RMSE 28.57\n"
          ]
        }
      ]
    },
    {
      "cell_type": "code",
      "source": [
        "X_train.shape"
      ],
      "metadata": {
        "colab": {
          "base_uri": "https://localhost:8080/"
        },
        "id": "nlgLybDaOzRs",
        "outputId": "a8b1d9d9-f1c1-428d-cd20-3b9e34455ea0"
      },
      "execution_count": 108,
      "outputs": [
        {
          "output_type": "execute_result",
          "data": {
            "text/plain": [
              "(1572, 4)"
            ]
          },
          "metadata": {},
          "execution_count": 108
        }
      ]
    },
    {
      "cell_type": "markdown",
      "source": [
        "### 4.2 Criação e avaliação de modelos: dados padronizados e normalizados"
      ],
      "metadata": {
        "id": "bI1RS2LB8uzO"
      }
    },
    {
      "cell_type": "markdown",
      "source": [
        "Em seguida, vamos repetir esse processo, utilizando a biblioteca Pipeline para criar e avaliar os modelos através da validação cruzada com os dados padronizados e normalizados (evitando o data leakage) e comparar o seu resultado com os modelos treinados com o dataset original:"
      ],
      "metadata": {
        "id": "_eTY7WFS84JZ"
      }
    },
    {
      "cell_type": "code",
      "source": [
        "np.random.seed(7) # definindo uma semente global para este bloco\n",
        "\n",
        "# Listas para armazenar os armazenar os pipelines e os resultados para todas as visões do dataset\n",
        "pipelines = []\n",
        "results = []\n",
        "names = []\n",
        "\n",
        "\n",
        "# Criando os elementos do pipeline\n",
        "\n",
        "# Algoritmos que serão utilizados\n",
        "reg_lin = ('LR', LinearRegression())\n",
        "ridge = ('Ridge', Ridge())\n",
        "lasso = ('Lasso', Lasso())\n",
        "knn = ('KNN', KNeighborsRegressor())\n",
        "cart = ('CART', DecisionTreeRegressor())\n",
        "svr = ('SVM', SVR())\n",
        "bagging = ('Bag', BaggingRegressor(base_estimator=base, n_estimators=num_trees))\n",
        "random_forest = ('RF', RandomForestRegressor(n_estimators=num_trees, max_features=max_features))\n",
        "extra_trees = ('ET', ExtraTreesRegressor(n_estimators=num_trees, max_features=max_features))\n",
        "adaboost = ('Ada', AdaBoostRegressor(n_estimators=num_trees))\n",
        "gradient_boosting = ('GB', GradientBoostingRegressor(n_estimators=num_trees))\n",
        "voting = ('Voting', VotingRegressor(bases))\n",
        "\n",
        "# Transformações que serão utilizadas\n",
        "standard_scaler = ('StandardScaler', StandardScaler())\n",
        "min_max_scaler = ('MinMaxScaler', MinMaxScaler())\n",
        "\n",
        "\n",
        "# Montando os pipelines\n",
        "\n",
        "# Dataset original\n",
        "pipelines.append(('LR-orig', Pipeline([reg_lin])))\n",
        "pipelines.append(('Ridge-orig', Pipeline([ridge])))\n",
        "pipelines.append(('Lasso-orig', Pipeline([lasso])))\n",
        "pipelines.append(('KNN-orig', Pipeline([knn])))\n",
        "pipelines.append(('CART-orig', Pipeline([cart])))\n",
        "pipelines.append(('SVM-orig', Pipeline([svr])))\n",
        "pipelines.append(('Bag-orig', Pipeline([bagging])))\n",
        "pipelines.append(('RF-orig', Pipeline([random_forest])))\n",
        "pipelines.append(('ET-orig', Pipeline([extra_trees])))\n",
        "pipelines.append(('Ada-orig', Pipeline([adaboost])))\n",
        "pipelines.append(('GB-orig', Pipeline([gradient_boosting])))\n",
        "pipelines.append(('Vot-orig', Pipeline([voting])))\n",
        "\n",
        "# Dataset Padronizado\n",
        "pipelines.append(('LR-padr', Pipeline([standard_scaler, reg_lin])))\n",
        "pipelines.append(('Ridge-padr', Pipeline([standard_scaler, ridge])))\n",
        "pipelines.append(('Lasso-padr', Pipeline([standard_scaler, lasso])))\n",
        "pipelines.append(('KNN-padr', Pipeline([standard_scaler, knn])))\n",
        "pipelines.append(('CART-padr', Pipeline([standard_scaler, cart])))\n",
        "pipelines.append(('SVM-padr', Pipeline([standard_scaler, svr])))\n",
        "pipelines.append(('Bag-padr', Pipeline([standard_scaler, bagging])))\n",
        "pipelines.append(('RF-padr', Pipeline([standard_scaler, random_forest])))\n",
        "pipelines.append(('ET-padr', Pipeline([standard_scaler, extra_trees])))\n",
        "pipelines.append(('Ada-padr', Pipeline([standard_scaler, adaboost])))\n",
        "pipelines.append(('GB-padr', Pipeline([standard_scaler, gradient_boosting])))\n",
        "pipelines.append(('Vot-padr', Pipeline([standard_scaler, voting])))\n",
        "\n",
        "# Dataset Normalizado\n",
        "pipelines.append(('LR-norm', Pipeline([min_max_scaler, reg_lin])))\n",
        "pipelines.append(('Ridge-norm', Pipeline([min_max_scaler, ridge])))\n",
        "pipelines.append(('Lasso-norm', Pipeline([min_max_scaler, lasso])))\n",
        "pipelines.append(('KNN-norm', Pipeline([min_max_scaler, knn])))\n",
        "pipelines.append(('CART-norm', Pipeline([min_max_scaler, cart])))\n",
        "pipelines.append(('SVM-norm', Pipeline([min_max_scaler, svr])))\n",
        "pipelines.append(('Bag-norm', Pipeline([min_max_scaler, bagging])))\n",
        "pipelines.append(('RF-norm', Pipeline([min_max_scaler, random_forest])))\n",
        "pipelines.append(('ET-norm', Pipeline([min_max_scaler, extra_trees])))\n",
        "pipelines.append(('Ada-norm', Pipeline([min_max_scaler, adaboost])))\n",
        "pipelines.append(('GB-norm', Pipeline([min_max_scaler, gradient_boosting])))\n",
        "pipelines.append(('Vot-norm', Pipeline([min_max_scaler, voting])))\n",
        "\n",
        "# Executando os pipelines\n",
        "for name, model in pipelines:\n",
        "    cv_results = cross_val_score(model, X_train, y_train, cv=kfold, scoring='neg_mean_squared_error')\n",
        "    results.append(cv_results)\n",
        "    names.append(name)\n",
        "    msg = \"%s: %.3f (%.3f)\" % (name, cv_results.mean(), cv_results.std()) # formatando para 3 casas decimais\n",
        "    print(msg)\n",
        "\n",
        "# Boxplot de comparação dos modelos\n",
        "fig = plt.figure(figsize=(30,6))\n",
        "fig.suptitle('Comparação dos Modelos - Dataset orginal, padronizado e normalizado')\n",
        "ax = fig.add_subplot(111)\n",
        "plt.boxplot(results)\n",
        "ax.set_xticklabels(names, rotation=90)\n",
        "plt.show()"
      ],
      "metadata": {
        "colab": {
          "base_uri": "https://localhost:8080/",
          "height": 947
        },
        "id": "IJ65qKtSO-pA",
        "outputId": "db08d580-3322-4c3a-9af2-0b47081437fe"
      },
      "execution_count": 109,
      "outputs": [
        {
          "output_type": "stream",
          "name": "stdout",
          "text": [
            "LR-orig: -772.527 (45.520)\n",
            "Ridge-orig: -772.515 (45.517)\n",
            "Lasso-orig: -771.185 (42.937)\n",
            "KNN-orig: -913.411 (52.284)\n",
            "CART-orig: -1557.322 (155.462)\n",
            "SVM-orig: -772.553 (41.900)\n",
            "Bag-orig: -950.223 (66.557)\n",
            "RF-orig: -974.922 (74.669)\n",
            "ET-orig: -1218.389 (94.331)\n",
            "Ada-orig: -772.026 (43.407)\n",
            "GB-orig: -796.122 (42.208)\n",
            "Vot-orig: -838.340 (68.318)\n",
            "LR-padr: -772.527 (45.520)\n",
            "Ridge-padr: -772.523 (45.518)\n",
            "Lasso-padr: -773.502 (42.927)\n",
            "KNN-padr: -925.192 (60.094)\n",
            "CART-padr: -1573.021 (171.491)\n",
            "SVM-padr: -775.109 (48.170)\n",
            "Bag-padr: -947.094 (65.198)\n",
            "RF-padr: -977.317 (71.684)\n",
            "ET-padr: -1211.384 (86.738)\n",
            "Ada-padr: -774.789 (37.952)\n",
            "GB-padr: -796.126 (44.738)\n",
            "Vot-padr: -840.321 (73.509)\n",
            "LR-norm: -772.527 (45.520)\n",
            "Ridge-norm: -772.495 (45.496)\n",
            "Lasso-norm: -772.129 (42.196)\n",
            "KNN-norm: -923.313 (59.255)\n",
            "CART-norm: -1575.984 (169.877)\n",
            "SVM-norm: -773.599 (47.427)\n",
            "Bag-norm: -954.600 (70.302)\n",
            "RF-norm: -980.698 (74.232)\n",
            "ET-norm: -1219.620 (93.012)\n",
            "Ada-norm: -772.598 (44.133)\n",
            "GB-norm: -795.915 (42.317)\n",
            "Vot-norm: -838.264 (76.693)\n"
          ]
        },
        {
          "output_type": "display_data",
          "data": {
            "text/plain": [
              "<Figure size 3000x600 with 1 Axes>"
            ],
            "image/png": "[encoded data removed]"
          },
          "metadata": {}
        }
      ]
    },
    {
      "cell_type": "markdown",
      "source": [
        "O modelo com ensemble Regressão Linear com regularização Lasso com dados originais apresentou a melhor performance dentre os modelos de regressão avaliados."
      ],
      "metadata": {
        "id": "dXSbKnW2Ec21"
      }
    },
    {
      "cell_type": "markdown",
      "source": [
        "### 4.3 Otimização de Hiperparâmetros"
      ],
      "metadata": {
        "id": "h8gaEWIVSrXb"
      }
    },
    {
      "cell_type": "markdown",
      "source": [
        "Agora iremos utilizar os resultados obtidos nos pipelines de avaliação de modelo, para executar a otimização dos hiperparâmetros."
      ],
      "metadata": {
        "id": "mhfykhxnogpu"
      }
    },
    {
      "cell_type": "code",
      "source": [
        "# Tuning do Lasso\n",
        "\n",
        "np.random.seed(7) # definindo uma semente global para este bloco\n",
        "\n",
        "pipelines = []\n",
        "\n",
        "# Definindo os componentes do pipeline\n",
        "lasso = ('Lasso', Lasso())\n",
        "standard_scaler = ('StandardScaler', StandardScaler())\n",
        "min_max_scaler = ('MinMaxScaler', MinMaxScaler())\n",
        "\n",
        "pipelines.append(('Lasso-orig', Pipeline([lasso])))\n",
        "pipelines.append(('Lasso-padr', Pipeline([lasso])))\n",
        "pipelines.append(('Lasso-norm', Pipeline([lasso])))\n",
        "\n",
        "param_grid = {\n",
        "    'Lasso__max_iter': [0, 1000],\n",
        "    'Lasso__fit_intercept':[True, False],\n",
        "    'Lasso__precompute': [True, False],\n",
        "    'Lasso__positive': [True, False],\n",
        "    'Lasso__selection': ['cyclic', 'random'],\n",
        "    'Lasso__warm_start': [True, False],\n",
        "    'Lasso__tol': [0.0001, 0.001, 0.01, 0.1, 1, 10, 100]\n",
        "}\n",
        "\n",
        "# Prepara e executa o GridSearchCV\n",
        "for name, model in pipelines:\n",
        "    grid = GridSearchCV(estimator=model, param_grid=param_grid, scoring='neg_mean_squared_error', cv=kfold)\n",
        "    grid.fit(X_train, y_train)\n",
        "    # imprime a melhor configuração\n",
        "    print(\"%s - Melhor: %f usando %s\" % (name, grid.best_score_, grid.best_params_))"
      ],
      "metadata": {
        "colab": {
          "base_uri": "https://localhost:8080/"
        },
        "id": "4fMaCVjLTSIC",
        "outputId": "d3974cc2-f45a-45c1-e080-f7c7408a16f4"
      },
      "execution_count": 110,
      "outputs": [
        {
          "output_type": "stream",
          "name": "stdout",
          "text": [
            "Lasso-orig - Melhor: -770.487025 usando {'Lasso__fit_intercept': True, 'Lasso__max_iter': 1000, 'Lasso__positive': False, 'Lasso__precompute': False, 'Lasso__selection': 'random', 'Lasso__tol': 10, 'Lasso__warm_start': False}\n",
            "Lasso-padr - Melhor: -770.237696 usando {'Lasso__fit_intercept': True, 'Lasso__max_iter': 1000, 'Lasso__positive': False, 'Lasso__precompute': True, 'Lasso__selection': 'random', 'Lasso__tol': 10, 'Lasso__warm_start': False}\n",
            "Lasso-norm - Melhor: -770.432880 usando {'Lasso__fit_intercept': True, 'Lasso__max_iter': 1000, 'Lasso__positive': True, 'Lasso__precompute': True, 'Lasso__selection': 'random', 'Lasso__tol': 1, 'Lasso__warm_start': False}\n"
          ]
        }
      ]
    },
    {
      "cell_type": "markdown",
      "source": [
        "Com a otimização dos hiperparêmetros, o melhor resultado foi alcançado com os dados padronizados"
      ],
      "metadata": {
        "id": "FHneqgsE1V6X"
      }
    },
    {
      "cell_type": "markdown",
      "source": [
        "### 5. Finalização do Modelo"
      ],
      "metadata": {
        "id": "fSmBRZzXT8vA"
      }
    },
    {
      "cell_type": "markdown",
      "source": [
        "A seguir, finalizaremos o modelo, treinando-o em todo o conjunto de dados de treinamento (sem validação cruzada), e faremos predições para o conjunto de dados de teste que foi separado logo no início da prática, a fim de confirmarmos os resultados.\n",
        "\n",
        "Como não podemos calcular a acurácia de um modelo de regressão, vamos utilizar o erro quadrático médio (MSE) e a raiz do erro quadrático médio (RMSE) como indicadores de desempenho do modelo"
      ],
      "metadata": {
        "id": "57108QZbXMlN"
      }
    },
    {
      "cell_type": "code",
      "source": [
        "# Avaliação do modelo com o conjunto de testes\n",
        "\n",
        "# Preparação do modelo\n",
        "scaler = StandardScaler().fit(X_train) # ajuste do scaler com o conjunto de treino\n",
        "rescaledX = scaler.transform(X_train) # aplicação da padronização no conjunto de treino\n",
        "model = Lasso()\n",
        "model.fit(rescaledX, y_train)\n",
        "\n",
        "# Fazendo as predições com o conjunto de teste\n",
        "predictions = model.predict(X_test)\n",
        "\n",
        "# Estimando o MSE e o RMSE no conjunto de teste\n",
        "rescaledTestX = scaler.transform(X_test) # aplicação da padronização no conjunto de teste\n",
        "predictions = model.predict(rescaledTestX)\n",
        "mse = mean_squared_error(y_test, predictions)\n",
        "print(\"MSE %0.2f\" % mse)\n",
        "print(\"RMSE %0.2f\" % np.sqrt(abs(mse)))"
      ],
      "metadata": {
        "colab": {
          "base_uri": "https://localhost:8080/"
        },
        "id": "3-FkZqDQUCPs",
        "outputId": "2a8e186d-ba3e-4979-d4da-ae696d67958e"
      },
      "execution_count": 111,
      "outputs": [
        {
          "output_type": "stream",
          "name": "stdout",
          "text": [
            "MSE 811.82\n",
            "RMSE 28.49\n"
          ]
        }
      ]
    },
    {
      "cell_type": "markdown",
      "source": [
        "###6. Conclusão"
      ],
      "metadata": {
        "id": "iz4xXRvjBEiS"
      }
    },
    {
      "cell_type": "markdown",
      "source": [
        "Por meio do conjunto de teste, verificamos que alcançamos um MSE de 811.82 em dados não vistos. Esse resultado foi ainda melhor do que a nossa avaliação anterior, que alcançou o valor do MSE de 816.27."
      ],
      "metadata": {
        "id": "cIizfjXOq2Gy"
      }
    }
  ],
  "metadata": {
    "colab": {
      "provenance": [],
      "authorship_tag": "ABX9TyM+IaIYHzjmaadqkpzuSerm",
      "include_colab_link": true
    },
    "kernelspec": {
      "display_name": "Python 3",
      "name": "python3"
    },
    "language_info": {
      "name": "python"
    }
  },
  "nbformat": 4,
  "nbformat_minor": 0
}